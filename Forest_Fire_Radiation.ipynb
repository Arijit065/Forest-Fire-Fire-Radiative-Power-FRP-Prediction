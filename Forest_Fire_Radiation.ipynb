{
  "nbformat": 4,
  "nbformat_minor": 0,
  "metadata": {
    "colab": {
      "provenance": []
    },
    "kernelspec": {
      "name": "python3",
      "display_name": "Python 3"
    },
    "language_info": {
      "name": "python"
    }
  },
  "cells": [
    {
      "cell_type": "markdown",
      "source": [
        "Project Title : Estimating Fire Radiative Power (FRP) in Forest Fires Using Satellite Data"
      ],
      "metadata": {
        "id": "u17vlld0Od35"
      }
    },
    {
      "cell_type": "markdown",
      "source": [
        "Problem Statement : Forest fires cause severe ecological and economic damage worldwide. Predicting Fire Radiative Power(FRP) is essential to assess fire intensity, spread, and emissions"
      ],
      "metadata": {
        "id": "cCpscE40OrYl"
      }
    },
    {
      "cell_type": "markdown",
      "source": [
        "Description : FRP is a key indicator of fire intensity and emissions, making it vital for monitoring wildfire severity. By using remote sensing data such as brightness, temperature, and location . This project applies Linear Regression to provide quick FRP estimates. The model enables faster decision-making for disaster management, emission assessment, and ecological protection."
      ],
      "metadata": {
        "id": "Rr1N25mSPBXt"
      }
    },
    {
      "cell_type": "code",
      "source": [
        "#Import Required Libraries\n",
        "import pandas as pd\n",
        "import numpy as np\n",
        "import matplotlib.pyplot as plt\n",
        "import seaborn as sns\n",
        "from sklearn.model_selection import train_test_split, GridSearchCV, cross_val_score\n",
        "from sklearn.preprocessing import LabelEncoder, StandardScaler\n",
        "from sklearn.ensemble import RandomForestClassifier\n",
        "from sklearn.linear_model import LogisticRegression\n",
        "from sklearn.metrics import classification_report, confusion_matrix, accuracy_score\n",
        "import joblib"
      ],
      "metadata": {
        "id": "FSJGw59mPaVZ"
      },
      "execution_count": 1,
      "outputs": []
    },
    {
      "cell_type": "code",
      "source": [
        "# Load the dataset\n",
        "df = pd.read_csv('/content/2000-2021 SINGLE TURKEY FIRE_M-C61_214067.csv')\n",
        "\n",
        "# Display first few rows\n",
        "print(df.head())"
      ],
      "metadata": {
        "colab": {
          "base_uri": "https://localhost:8080/"
        },
        "id": "yd28mU54Rssr",
        "outputId": "aa1a0de5-de89-44e0-f14d-fdebd5083f5a"
      },
      "execution_count": 4,
      "outputs": [
        {
          "output_type": "stream",
          "name": "stdout",
          "text": [
            "   latitude  longitude  brightness  scan  track    acq_date  acq_time  \\\n",
            "0   36.8527    35.3594       306.0   2.1    1.4  2000-11-01       815   \n",
            "1   40.5441    35.1786       307.8   1.1    1.0  2000-11-02       857   \n",
            "2   40.1473    35.0444       305.3   1.1    1.0  2000-11-02       857   \n",
            "3   40.5421    35.1909       310.0   1.1    1.0  2000-11-02       857   \n",
            "4   41.2569    31.4172       307.9   1.1    1.0  2000-11-02       857   \n",
            "\n",
            "  satellite instrument  confidence version  bright_t31   frp daynight  type  \n",
            "0     Terra      MODIS          60    6.03       294.4  13.2        D   0.0  \n",
            "1     Terra      MODIS          66    6.03       296.0   5.8        D   0.0  \n",
            "2     Terra      MODIS          46    6.03       293.5   4.3        D   0.0  \n",
            "3     Terra      MODIS          69    6.03       296.1   7.3        D   0.0  \n",
            "4     Terra      MODIS           0    6.03       290.4   8.0        D   2.0  \n"
          ]
        },
        {
          "output_type": "stream",
          "name": "stderr",
          "text": [
            "/tmp/ipython-input-3713270636.py:2: DtypeWarning: Columns (10) have mixed types. Specify dtype option on import or set low_memory=False.\n",
            "  df = pd.read_csv('/content/2000-2021 SINGLE TURKEY FIRE_M-C61_214067.csv')\n"
          ]
        }
      ]
    },
    {
      "cell_type": "code",
      "source": [
        "# Basic info\n",
        "print(df.info())\n",
        "print(df.describe())\n",
        "print(df.isnull().sum())"
      ],
      "metadata": {
        "colab": {
          "base_uri": "https://localhost:8080/"
        },
        "id": "HYCXZeOSSgTM",
        "outputId": "dee52057-d8b0-416a-b5fe-fd37f094fc11"
      },
      "execution_count": 5,
      "outputs": [
        {
          "output_type": "stream",
          "name": "stdout",
          "text": [
            "<class 'pandas.core.frame.DataFrame'>\n",
            "RangeIndex: 211309 entries, 0 to 211308\n",
            "Data columns (total 15 columns):\n",
            " #   Column      Non-Null Count   Dtype  \n",
            "---  ------      --------------   -----  \n",
            " 0   latitude    211309 non-null  float64\n",
            " 1   longitude   211309 non-null  float64\n",
            " 2   brightness  211309 non-null  float64\n",
            " 3   scan        211309 non-null  float64\n",
            " 4   track       211309 non-null  float64\n",
            " 5   acq_date    211309 non-null  object \n",
            " 6   acq_time    211309 non-null  int64  \n",
            " 7   satellite   211309 non-null  object \n",
            " 8   instrument  211309 non-null  object \n",
            " 9   confidence  211309 non-null  int64  \n",
            " 10  version     211309 non-null  object \n",
            " 11  bright_t31  211309 non-null  float64\n",
            " 12  frp         211309 non-null  float64\n",
            " 13  daynight    211309 non-null  object \n",
            " 14  type        205918 non-null  float64\n",
            "dtypes: float64(8), int64(2), object(5)\n",
            "memory usage: 24.2+ MB\n",
            "None\n",
            "            latitude      longitude     brightness           scan  \\\n",
            "count  211309.000000  211309.000000  211309.000000  211309.000000   \n",
            "mean       38.096869      35.810523     323.103487       1.519333   \n",
            "std         1.259144       4.218867      15.710290       0.735847   \n",
            "min        35.822100      25.723600     300.000000       1.000000   \n",
            "25%        37.113200      33.037500     311.300000       1.000000   \n",
            "50%        37.711700      35.817400     322.100000       1.200000   \n",
            "75%        38.931600      39.755500     331.300000       1.700000   \n",
            "max        42.033000      44.796700     503.530000       4.820000   \n",
            "\n",
            "               track       acq_time     confidence     bright_t31  \\\n",
            "count  211309.000000  211309.000000  211309.000000  211309.000000   \n",
            "mean        1.183241    1127.559252      66.453923     302.475387   \n",
            "std         0.228731     426.703297      19.297827      10.168149   \n",
            "min         1.000000       0.000000       0.000000     265.200000   \n",
            "25%         1.000000     845.000000      55.000000     294.100000   \n",
            "50%         1.100000    1024.000000      68.000000     302.800000   \n",
            "75%         1.300000    1110.000000      79.000000     310.000000   \n",
            "max         2.000000    2359.000000     100.000000     400.100000   \n",
            "\n",
            "                 frp           type  \n",
            "count  211309.000000  205918.000000  \n",
            "mean       30.341675       0.138798  \n",
            "std        67.171226       0.509481  \n",
            "min         0.000000       0.000000  \n",
            "25%         8.900000       0.000000  \n",
            "50%        15.300000       0.000000  \n",
            "75%        30.700000       0.000000  \n",
            "max      4816.680000       3.000000  \n",
            "latitude         0\n",
            "longitude        0\n",
            "brightness       0\n",
            "scan             0\n",
            "track            0\n",
            "acq_date         0\n",
            "acq_time         0\n",
            "satellite        0\n",
            "instrument       0\n",
            "confidence       0\n",
            "version          0\n",
            "bright_t31       0\n",
            "frp              0\n",
            "daynight         0\n",
            "type          5391\n",
            "dtype: int64\n"
          ]
        }
      ]
    }
  ]
}